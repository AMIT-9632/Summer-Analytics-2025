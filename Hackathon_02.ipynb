{
  "nbformat": 4,
  "nbformat_minor": 0,
  "metadata": {
    "colab": {
      "provenance": []
    },
    "kernelspec": {
      "name": "python3",
      "display_name": "Python 3"
    },
    "language_info": {
      "name": "python"
    }
  },
  "cells": [
    {
      "cell_type": "code",
      "execution_count": 4,
      "metadata": {
        "id": "7A0sHneR-NE-"
      },
      "outputs": [],
      "source": [
        "import pandas as pd\n",
        "from sklearn.preprocessing import LabelEncoder\n",
        "from sklearn.ensemble import RandomForestClassifier\n",
        "\n",
        "# Load training data\n",
        "train_df = pd.read_csv('/content/Train_Data (1).csv')\n",
        "\n",
        "# Encode target\n",
        "le = LabelEncoder()\n",
        "train_df['age_group_encoded'] = le.fit_transform(train_df['age_group'])\n",
        "\n",
        "# Features and target\n",
        "features = ['RIAGENDR', 'PAQ605', 'BMXBMI', 'LBXGLU', 'DIQ010', 'LBXGLT', 'LBXIN']\n",
        "X = train_df[features].fillna(train_df[features].mean())\n",
        "y = train_df['age_group_encoded']\n",
        "\n",
        "# Train model\n",
        "model = RandomForestClassifier(random_state=42)\n",
        "model.fit(X, y)\n",
        "\n",
        "# Load test data\n",
        "test_df = pd.read_csv('/content/Test_Data (1).csv')\n",
        "X_test = test_df[features].fillna(test_df[features].mean())\n",
        "\n",
        "# Predict\n",
        "preds = model.predict(X_test)\n",
        "\n",
        "# Decode predictions\n",
        "pred_labels = le.inverse_transform(preds)\n",
        "\n",
        "# Save predictions\n",
        "output = pd.DataFrame({'SEQN': test_df['SEQN'], 'age_group': pred_labels})\n",
        "output.to_csv('submission.csv', index=False)\n"
      ]
    },
    {
      "cell_type": "code",
      "source": [],
      "metadata": {
        "id": "16ghF3_BAHDO"
      },
      "execution_count": null,
      "outputs": []
    }
  ]
}